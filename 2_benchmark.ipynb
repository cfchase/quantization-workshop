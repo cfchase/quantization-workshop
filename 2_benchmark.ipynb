{
 "cells": [
  {
   "cell_type": "markdown",
   "id": "a30f6c80",
   "metadata": {},
   "source": [
    "# Benchmarking LLM Performance with GuideLLM\n",
    "\n",
    "This notebook demonstrates how to benchmark the performance of different LLM models using vLLM and GuideLLM. We'll compare a full precision model with its quantized version to analyze the trade-offs between accuracy and inference speed.\n",
    "\n"
   ]
  },
  {
   "cell_type": "code",
   "execution_count": null,
   "id": "e7bee541-e446-4d74-9f24-8e808d622675",
   "metadata": {
    "scrolled": true
   },
   "outputs": [],
   "source": [
    "!pip install vllm guidellm openai"
   ]
  },
  {
   "cell_type": "code",
   "execution_count": null,
   "id": "fc5c9bb6-2b86-4129-a025-f60d30840c79",
   "metadata": {},
   "outputs": [],
   "source": [
    "full_precision_model_name = \"TinyLlama/TinyLlama-1.1B-Chat-v1.0\"\n",
    "quantized_model_name = \"TinyLlama-1.1B-Chat-v1.0-INT8\"\n"
   ]
  },
  {
   "cell_type": "code",
   "execution_count": null,
   "id": "8904d841-0c30-4117-82b9-124add7a629b",
   "metadata": {
    "scrolled": true
   },
   "outputs": [],
   "source": [
    "import subprocess\n",
    "import time\n",
    "import signal\n",
    "import os\n",
    "\n",
    "from openai import OpenAI\n",
    "\n",
    "\n",
    "def start_vllm_server(model_path):\n",
    "    # Start vllm serve in the background and redirect output to a log file\n",
    "    log_file = \"vllm_server.log\"\n",
    "    with open(log_file, \"w\") as f:\n",
    "        process = subprocess.Popen(\n",
    "            [\"vllm\", \"serve\", model_path],\n",
    "            stdout=f,\n",
    "            stderr=subprocess.STDOUT,\n",
    "            text=True\n",
    "        )\n",
    "\n",
    "    # Store the process ID for later use\n",
    "    pid = process.pid\n",
    "    print(f\"Starting vllm server with PID: {pid}\")\n",
    "\n",
    "    # Tail the log file until we see the startup message\n",
    "    startup_complete = False\n",
    "    while not startup_complete:\n",
    "        try:\n",
    "            with open(log_file, \"r\") as f:\n",
    "                content = f.read()\n",
    "                print(content)\n",
    "                if \"Application startup complete\" in content:\n",
    "                    startup_complete = True\n",
    "                    print(\"Server startup complete!\")\n",
    "                    break\n",
    "        except FileNotFoundError:\n",
    "            pass\n",
    "        time.sleep(5)\n",
    "\n",
    "    return pid\n",
    "    \n",
    "\n",
    "def stop_vllm_server(pid):\n",
    "    os.kill(pid, signal.SIGTERM)\n",
    "    print(f\"Stopped vllm server (PID: {pid})\")\n",
    "\n",
    "\n",
    "def test_served_model(\n",
    "    infer_endpoint=\"http://localhost:8000\",\n",
    "    api_key=\"EMPTY\",\n",
    "    model_name=None,\n",
    "    prompt=\"Hi. Who are you?\"):  \n",
    "    \n",
    "    client = OpenAI(\n",
    "        api_key=api_key,\n",
    "        base_url=f\"{infer_endpoint}/v1\"\n",
    "    )\n",
    "\n",
    "    # Get model name of the first available model\n",
    "    # Since we're using OpenShift AI serving with vLLM, there is only one model available\n",
    "    if not model_name:\n",
    "        model_list = client.models.list()\n",
    "        model_name = model_list.data[0].id\n",
    "        \n",
    "    print(f\"Using model: {model_name}\")\n",
    "\n",
    "    completion = client.chat.completions.create(\n",
    "        model=model_name,\n",
    "        messages=[\n",
    "            # User message\n",
    "            {\n",
    "                \"role\": \"user\",\n",
    "                \"content\": prompt\n",
    "            }\n",
    "        ],\n",
    "        stream=True\n",
    "    )\n",
    "\n",
    "    for chunk in completion:\n",
    "        if chunk.choices[0].delta.content is not None:\n",
    "            print(chunk.choices[0].delta.content, end='', flush=True)\n",
    "    print()\n",
    "\n",
    "\n",
    "def run_benchmark(\n",
    "    target_url=\"http://localhost:8000\",\n",
    "    log_file=\"guidellm.log\",\n",
    "    output_path=\"benchmarks.json\"):\n",
    "    # Start guidellm benchmark in the background and redirect output to a log file\n",
    "    with open(log_file, \"w\") as f:\n",
    "        process = subprocess.Popen(\n",
    "            [\"guidellm\", \"benchmark\",\n",
    "             \"--target\", target_url,\n",
    "             \"--rate-type\", \"sweep\",\n",
    "             \"--max-seconds\", \"30\",\n",
    "             \"--data\", \"prompt_tokens=256,output_tokens=128\",\n",
    "             \"--disable-progress\",\n",
    "             \"--output-path\", output_path],\n",
    "            stdout=f,\n",
    "            stderr=subprocess.STDOUT,\n",
    "            text=True\n",
    "        )\n",
    "\n",
    "    # Store the process ID for later use\n",
    "    pid = process.pid\n",
    "    print(f\"Starting guidellm benchmark with PID: {pid}\")\n",
    "\n",
    "    # Wait for the benchmark to complete\n",
    "    process.wait()\n",
    "    print(\"Benchmark complete!\")\n",
    "\n",
    "    # Read and print the log file\n",
    "    with open(log_file, \"r\") as f:\n",
    "        print(f.read())\n",
    "\n",
    "    return pid"
   ]
  },
  {
   "cell_type": "markdown",
   "id": "3ddb2b6b",
   "metadata": {},
   "source": []
  },
  {
   "cell_type": "code",
   "execution_count": null,
   "id": "eba13427-b234-4c97-a20d-d178dd36314c",
   "metadata": {},
   "outputs": [],
   "source": [
    "vllm_pid = start_vllm_server(quantized_model_name)\n",
    "print(f\"vllm started on PID {vllm_pid}\")\n",
    "\n",
    "test_served_model(prompt=\"Hi. Who are you?\")\n",
    "\n",
    "guidellm_pid = run_benchmark(target_url=\"http://localhost:8000\", log_file=\"guidellm.log\", output_path=\"quantized-benchmarks.json\")\n",
    "print(f\"guidellm started on PID {guidellm_pid}\")\n",
    "\n",
    "stop_vllm_server(vllm_pid)\n",
    "print(f\"vllm stopped\")"
   ]
  },
  {
   "cell_type": "markdown",
   "id": "55857896",
   "metadata": {},
   "source": []
  },
  {
   "cell_type": "code",
   "execution_count": null,
   "id": "59b2711c-8e4c-483f-8c3a-bd13f2fcbce2",
   "metadata": {
    "scrolled": true
   },
   "outputs": [],
   "source": [
    "vllm_pid = start_vllm_server(quantized_model_name)\n",
    "print(f\"vllm started on PID {vllm_pid}\")\n",
    "\n",
    "test_served_model(prompt=\"Hi. Who are you?\")\n",
    "\n",
    "guidellm_pid = run_benchmark(target_url=\"http://localhost:8000\", log_file=\"guidellm.log\", output_path=\"quantized-benchmarks.json\")\n",
    "print(f\"guidellm started on PID {guidellm_pid}\")\n",
    "\n",
    "stop_vllm_server(vllm_pid)\n",
    "print(f\"vllm stopped\")"
   ]
  }
 ],
 "metadata": {
  "kernelspec": {
   "display_name": ".venv",
   "language": "python",
   "name": "python3"
  },
  "language_info": {
   "codemirror_mode": {
    "name": "ipython",
    "version": 3
   },
   "file_extension": ".py",
   "mimetype": "text/x-python",
   "name": "python",
   "nbconvert_exporter": "python",
   "pygments_lexer": "ipython3",
   "version": "3.11.9"
  }
 },
 "nbformat": 4,
 "nbformat_minor": 5
}
