{
 "cells": [
  {
   "cell_type": "markdown",
   "id": "a30f6c80",
   "metadata": {},
   "source": [
    "# Model Quantization with LLM Compressor\n",
    "\n",
    "This notebook demonstrates how to quantize a language model using LLM Compressor, a library for model compression and optimization. We'll quantize the TinyLlama-1.1B-Chat model from full precision to INT8.\n",
    "\n",
    "## Overview\n",
    "\n",
    "The quantization process involves:\n",
    "1. Installing the required library\n",
    "2. Setting up model names\n",
    "3. Configuring the quantization recipe\n",
    "4. Running the quantization process\n",
    "\n"
   ]
  },
  {
   "cell_type": "code",
   "execution_count": null,
   "id": "e7bee541-e446-4d74-9f24-8e808d622675",
   "metadata": {
    "scrolled": true
   },
   "outputs": [],
   "source": [
    "!pip install llmcompressor "
   ]
  },
  {
   "cell_type": "code",
   "execution_count": null,
   "id": "fc5c9bb6-2b86-4129-a025-f60d30840c79",
   "metadata": {},
   "outputs": [],
   "source": [
    "full_precision_model_name = \"TinyLlama/TinyLlama-1.1B-Chat-v1.0\"\n",
    "quantized_model_name = \"TinyLlama-1.1B-Chat-v1.0-INT8\""
   ]
  },
  {
   "cell_type": "code",
   "execution_count": null,
   "id": "c4fb6a12-b73f-465a-9b2b-32eb39d433c6",
   "metadata": {
    "scrolled": true
   },
   "outputs": [],
   "source": [
    "from llmcompressor.modifiers.smoothquant import SmoothQuantModifier\n",
    "from llmcompressor.modifiers.quantization import GPTQModifier\n",
    "from llmcompressor import oneshot\n",
    "\n",
    "# Select quantization algorithm. In this case, we:\n",
    "#   * apply SmoothQuant to make the activations easier to quantize\n",
    "#   * quantize the weights to int8 with GPTQ (static per channel)\n",
    "#   * quantize the activations to int8 (dynamic per token)\n",
    "recipe = [\n",
    "    SmoothQuantModifier(smoothing_strength=0.8),\n",
    "    GPTQModifier(scheme=\"W8A8\", targets=\"Linear\", ignore=[\"lm_head\"]),\n",
    "]\n",
    "\n",
    "# Apply quantization using the built in open_platypus dataset.\n",
    "#   * See examples for demos showing how to pass a custom calibration set\n",
    "oneshot(\n",
    "    model=full_precision_model_name,\n",
    "    dataset=\"open_platypus\",\n",
    "    recipe=recipe,\n",
    "    output_dir=quantized_model_name,\n",
    "    max_seq_length=2048,\n",
    "    num_calibration_samples=512,\n",
    ")"
   ]
  }
 ],
 "metadata": {
  "kernelspec": {
   "display_name": "Python 3.11",
   "language": "python",
   "name": "python3"
  },
  "language_info": {
   "codemirror_mode": {
    "name": "ipython",
    "version": 3
   },
   "file_extension": ".py",
   "mimetype": "text/x-python",
   "name": "python",
   "nbconvert_exporter": "python",
   "pygments_lexer": "ipython3",
   "version": "3.11.9"
  }
 },
 "nbformat": 4,
 "nbformat_minor": 5
}
